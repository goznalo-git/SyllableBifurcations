{
 "cells": [
  {
   "cell_type": "markdown",
   "metadata": {},
   "source": [
    "# Physical model of airflow"
   ]
  },
  {
   "cell_type": "code",
   "execution_count": 1,
   "metadata": {
    "colab": {
     "base_uri": "https://localhost:8080/",
     "height": 747
    },
    "id": "_EqnCrJ7Qjdy",
    "outputId": "0bef3750-be77-412f-b25b-5393dcff7386"
   },
   "outputs": [],
   "source": [
    "# prompt: sam as above, but now also computing as flow f=- (alpha / v_current) * A_current * np.sign(p - p0) * np.sqrt(abs(p - p0)). and also plot it with the other variables\n",
    "import numpy as np\n",
    "import matplotlib.pyplot as plt"
   ]
  },
  {
   "cell_type": "code",
   "execution_count": 2,
   "metadata": {},
   "outputs": [],
   "source": [
    "# Define the parameters\n",
    "alpha = 30.0  # Parameter alpha\n",
    "tf = 1.0    # Final time\n",
    "p0 = 1    # Setpoint\n",
    "\n",
    "# Define the time vector\n",
    "t = np.linspace(0, 1.5* tf, 10000)"
   ]
  },
  {
   "cell_type": "code",
   "execution_count": 3,
   "metadata": {},
   "outputs": [],
   "source": [
    "# Define the sigmoid function\n",
    "def sigmoid(x, k, x0):\n",
    "  \"\"\"\n",
    "  Sigmoid function.\n",
    "\n",
    "  Args:\n",
    "    x: Input value.\n",
    "    k: Steepness of the sigmoid.\n",
    "    x0: Center of the sigmoid.\n",
    "\n",
    "  Returns:\n",
    "    The sigmoid value.\n",
    "  \"\"\"\n",
    "  return 1 / (1 + np.exp(-k * (x - x0)))"
   ]
  },
  {
   "cell_type": "code",
   "execution_count": 4,
   "metadata": {},
   "outputs": [],
   "source": [
    "# Define the step function for A using sigmoid\n",
    "k = 200  # Steepness of the sigmoid\n",
    "x0_on = 0.5 * tf  # Center of the sigmoid for turning on  0.5\n",
    "x0_off = .65 * tf  # Center of the sigmoid for turning off 0.95\n",
    "A_on = sigmoid(t, k, x0_on)\n",
    "A_off = 1 - sigmoid(t, k, x0_off)\n",
    "A = A_on * A_off  # Combine the sigmoids to create the desired step function"
   ]
  },
  {
   "cell_type": "code",
   "execution_count": 5,
   "metadata": {},
   "outputs": [],
   "source": [
    "# Calculate the indices where t <= tf\n",
    "indices = t <= tf\n",
    "\n",
    "# Assign values to v only where t <= tf\n",
    "v = np.zeros_like(t)\n",
    "vp = np.zeros_like(t)\n",
    "v[indices] = 10 - np.sin(np.pi * t[indices] / tf)\n",
    "vp[indices] = -np.pi * np.cos(np.pi * t[indices] / tf) / tf\n",
    "\n",
    "# Initialize the pressure\n",
    "p = np.zeros_like(t)\n",
    "p = p + p0"
   ]
  },
  {
   "cell_type": "code",
   "execution_count": 6,
   "metadata": {},
   "outputs": [],
   "source": [
    "# Define the differential equation\n",
    "def dp_dt(p, v_current, v_previous, A_current):\n",
    "  \"\"\"\n",
    "  Calculates the derivative of pressure with respect to time.\n",
    "\n",
    "  Args:\n",
    "    p: Current pressure value.\n",
    "    v_current: Current velocity value.\n",
    "    v_previous: Previous velocity value.\n",
    "    A_current: Current value of the step function.\n",
    "\n",
    "  Returns:\n",
    "    The derivative of pressure with respect to time.\n",
    "  \"\"\"\n",
    "  # Use v_current instead of v\n",
    "  return -p * (v_previous) / v_current - (alpha / v_current) * A_current * np.sign(p - p0) * np.sqrt(abs(p - p0))"
   ]
  },
  {
   "cell_type": "code",
   "execution_count": 7,
   "metadata": {},
   "outputs": [],
   "source": [
    "# Define the RK4 method\n",
    "def rk4(f, p, v_current, v_previous, A_current, dt):\n",
    "  \"\"\"\n",
    "  Applies the RK4 method to solve the differential equation.\n",
    "\n",
    "  Args:\n",
    "    f: The differential equation function.\n",
    "    p: Current pressure value.\n",
    "    v_current: Current velocity value.\n",
    "    v_previous: Previous velocity value.\n",
    "    A_current: Current value of the step function.\n",
    "    dt: Time step.\n",
    "\n",
    "  Returns:\n",
    "    The updated pressure value.\n",
    "  \"\"\"\n",
    "  k1 = dt * f(p, v_current, v_previous, A_current) # Pass individual values to dp_dt\n",
    "  k2 = dt * f(p + k1 / 2, v_current, v_previous, A_current) # Pass individual values to dp_dt\n",
    "  k3 = dt * f(p + k2 / 2, v_current, v_previous, A_current) # Pass individual values to dp_dt\n",
    "  k4 = dt * f(p + k3, v_current, v_previous, A_current) # Pass individual values to dp_dt\n",
    "  return p + (k1 + 2 * k2 + 2 * k3 + k4) / 6"
   ]
  },
  {
   "cell_type": "code",
   "execution_count": 8,
   "metadata": {},
   "outputs": [
    {
     "name": "stderr",
     "output_type": "stream",
     "text": [
      "/tmp/ipykernel_21492/2635502671.py:16: RuntimeWarning: invalid value encountered in scalar divide\n",
      "  return -p * (v_previous) / v_current - (alpha / v_current) * A_current * np.sign(p - p0) * np.sqrt(abs(p - p0))\n",
      "/tmp/ipykernel_21492/2635502671.py:16: RuntimeWarning: divide by zero encountered in scalar divide\n",
      "  return -p * (v_previous) / v_current - (alpha / v_current) * A_current * np.sign(p - p0) * np.sqrt(abs(p - p0))\n",
      "/tmp/ipykernel_21492/2635502671.py:16: RuntimeWarning: invalid value encountered in scalar multiply\n",
      "  return -p * (v_previous) / v_current - (alpha / v_current) * A_current * np.sign(p - p0) * np.sqrt(abs(p - p0))\n",
      "/tmp/ipykernel_21492/3505654910.py:7: RuntimeWarning: divide by zero encountered in divide\n",
      "  f =  (alpha / v) * A * np.sign(p - p0) * np.sqrt(abs(p - p0))\n",
      "/tmp/ipykernel_21492/3505654910.py:7: RuntimeWarning: invalid value encountered in multiply\n",
      "  f =  (alpha / v) * A * np.sign(p - p0) * np.sqrt(abs(p - p0))\n"
     ]
    }
   ],
   "source": [
    "# Integrate the differential equation using RK4\n",
    "for i in range(1, len(t)):\n",
    "  dt = t[i] - t[i - 1]\n",
    "  p[i] = rk4(dp_dt, p[i-1], v[i], vp[i], A[i], dt) # Pass individual values to rk4 and use p[i-1]\n",
    "\n",
    "# Calculate the flow\n",
    "f =  (alpha / v) * A * np.sign(p - p0) * np.sqrt(abs(p - p0))"
   ]
  },
  {
   "cell_type": "code",
   "execution_count": 9,
   "metadata": {},
   "outputs": [
    {
     "data": {
      "image/png": "[encoded data removed]",
      "text/plain": [
       "<Figure size 720x432 with 1 Axes>"
      ]
     },
     "metadata": {
      "needs_background": "light"
     },
     "output_type": "display_data"
    }
   ],
   "source": [
    "# Plot the results\n",
    "plt.figure(figsize=(10, 6))\n",
    "plt.plot(t, v/max(v), label='Volume (v)')\n",
    "plt.plot(t, p/max(p), label='Pressure (p)')\n",
    "plt.plot(t, A, label='Aperture (A)')\n",
    "plt.plot(t, f/max(f), label='Flow (f)')\n",
    "plt.xlim(0.,1.0)\n",
    "plt.xlabel('Time')\n",
    "plt.ylabel('Value')\n",
    "plt.title('Integration of Pressure with Sigmoid Function and Flow')\n",
    "plt.grid(False)\n",
    "plt.legend()\n",
    "plt.show()\n"
   ]
  },
  {
   "cell_type": "code",
   "execution_count": null,
   "metadata": {},
   "outputs": [],
   "source": []
  },
  {
   "cell_type": "code",
   "execution_count": null,
   "metadata": {},
   "outputs": [],
   "source": []
  },
  {
   "cell_type": "code",
   "execution_count": null,
   "metadata": {},
   "outputs": [],
   "source": []
  },
  {
   "cell_type": "code",
   "execution_count": null,
   "metadata": {},
   "outputs": [],
   "source": []
  }
 ],
 "metadata": {
  "colab": {
   "provenance": []
  },
  "kernelspec": {
   "display_name": "Python 3 (ipykernel)",
   "language": "python",
   "name": "python3"
  },
  "language_info": {
   "codemirror_mode": {
    "name": "ipython",
    "version": 3
   },
   "file_extension": ".py",
   "mimetype": "text/x-python",
   "name": "python",
   "nbconvert_exporter": "python",
   "pygments_lexer": "ipython3",
   "version": "3.9.17"
  }
 },
 "nbformat": 4,
 "nbformat_minor": 4
}
